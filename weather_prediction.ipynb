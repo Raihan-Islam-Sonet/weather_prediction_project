{
  "nbformat": 4,
  "nbformat_minor": 0,
  "metadata": {
    "colab": {
      "name": "weather_prediction.ipynb",
      "provenance": [],
      "collapsed_sections": [],
      "include_colab_link": true
    },
    "kernelspec": {
      "display_name": "Python 3",
      "name": "python3"
    },
    "language_info": {
      "name": "python"
    }
  },
  "cells": [
    {
      "cell_type": "markdown",
      "metadata": {
        "id": "view-in-github",
        "colab_type": "text"
      },
      "source": [
        "<a href=\"https://colab.research.google.com/github/Raihan-Islam-Sonet/weather_prediction_project/blob/main/weather_prediction.ipynb\" target=\"_parent\"><img src=\"https://colab.research.google.com/assets/colab-badge.svg\" alt=\"Open In Colab\"/></a>"
      ]
    },
    {
      "cell_type": "markdown",
      "metadata": {
        "id": "SwClLKC7O3c3"
      },
      "source": [
        "#**Mount the drive and read the dataset**"
      ]
    },
    {
      "cell_type": "code",
      "metadata": {
        "id": "okb5MVVLKF72",
        "colab": {
          "base_uri": "https://localhost:8080/"
        },
        "outputId": "a83d9019-4a25-4a57-e687-1649816a630e"
      },
      "source": [
        "from google.colab import drive\n",
        "drive.mount(\"/content/gdrive\")"
      ],
      "execution_count": null,
      "outputs": [
        {
          "output_type": "stream",
          "text": [
            "Mounted at /content/gdrive\n"
          ],
          "name": "stdout"
        }
      ]
    },
    {
      "cell_type": "markdown",
      "metadata": {
        "id": "ZqBNdw0zQRFV"
      },
      "source": [
        "#**Import library for dataset read**"
      ]
    },
    {
      "cell_type": "code",
      "metadata": {
        "id": "ZqJ7-a6eHveP"
      },
      "source": [
        "import numpy as np\n",
        "import pandas as pd\n",
        "\n",
        "import sklearn\n",
        "from sklearn.model_selection import train_test_split\n",
        "from sklearn.metrics import accuracy_score\n",
        "\n",
        "from sklearn.linear_model import LinearRegression\n",
        "\n",
        "from matplotlib import pyplot as plt\n",
        "%matplotlib inline"
      ],
      "execution_count": null,
      "outputs": []
    },
    {
      "cell_type": "code",
      "metadata": {
        "id": "r4puVyRcLdAD"
      },
      "source": [
        "weather = pd.read_csv('gdrive/My Drive/Colab Notebooks/dataset/weatherHistory.csv')"
      ],
      "execution_count": null,
      "outputs": []
    },
    {
      "cell_type": "markdown",
      "metadata": {
        "id": "C2r2PNClPGCT"
      },
      "source": [
        "#**Show the dataset**"
      ]
    },
    {
      "cell_type": "code",
      "metadata": {
        "colab": {
          "base_uri": "https://localhost:8080/",
          "height": 296
        },
        "id": "Ci7lCBCpMfB7",
        "outputId": "8e644974-4446-4916-d221-fc010ddbbc20"
      },
      "source": [
        "weather.head()"
      ],
      "execution_count": null,
      "outputs": [
        {
          "output_type": "execute_result",
          "data": {
            "text/html": [
              "<div>\n",
              "<style scoped>\n",
              "    .dataframe tbody tr th:only-of-type {\n",
              "        vertical-align: middle;\n",
              "    }\n",
              "\n",
              "    .dataframe tbody tr th {\n",
              "        vertical-align: top;\n",
              "    }\n",
              "\n",
              "    .dataframe thead th {\n",
              "        text-align: right;\n",
              "    }\n",
              "</style>\n",
              "<table border=\"1\" class=\"dataframe\">\n",
              "  <thead>\n",
              "    <tr style=\"text-align: right;\">\n",
              "      <th></th>\n",
              "      <th>Formatted Date</th>\n",
              "      <th>Summary</th>\n",
              "      <th>Precip Type</th>\n",
              "      <th>Temperature (C)</th>\n",
              "      <th>Apparent Temperature (C)</th>\n",
              "      <th>Humidity</th>\n",
              "      <th>Wind Speed (km/h)</th>\n",
              "      <th>Wind Bearing (degrees)</th>\n",
              "      <th>Visibility (km)</th>\n",
              "      <th>Loud Cover</th>\n",
              "      <th>Pressure (millibars)</th>\n",
              "      <th>Daily Summary</th>\n",
              "    </tr>\n",
              "  </thead>\n",
              "  <tbody>\n",
              "    <tr>\n",
              "      <th>0</th>\n",
              "      <td>2006-04-01 00:00:00.000 +0200</td>\n",
              "      <td>Partly Cloudy</td>\n",
              "      <td>rain</td>\n",
              "      <td>9.472222</td>\n",
              "      <td>7.388889</td>\n",
              "      <td>0.89</td>\n",
              "      <td>14.1197</td>\n",
              "      <td>251.0</td>\n",
              "      <td>15.8263</td>\n",
              "      <td>0.0</td>\n",
              "      <td>1015.13</td>\n",
              "      <td>Partly cloudy throughout the day.</td>\n",
              "    </tr>\n",
              "    <tr>\n",
              "      <th>1</th>\n",
              "      <td>2006-04-01 01:00:00.000 +0200</td>\n",
              "      <td>Partly Cloudy</td>\n",
              "      <td>rain</td>\n",
              "      <td>9.355556</td>\n",
              "      <td>7.227778</td>\n",
              "      <td>0.86</td>\n",
              "      <td>14.2646</td>\n",
              "      <td>259.0</td>\n",
              "      <td>15.8263</td>\n",
              "      <td>0.0</td>\n",
              "      <td>1015.63</td>\n",
              "      <td>Partly cloudy throughout the day.</td>\n",
              "    </tr>\n",
              "    <tr>\n",
              "      <th>2</th>\n",
              "      <td>2006-04-01 02:00:00.000 +0200</td>\n",
              "      <td>Mostly Cloudy</td>\n",
              "      <td>rain</td>\n",
              "      <td>9.377778</td>\n",
              "      <td>9.377778</td>\n",
              "      <td>0.89</td>\n",
              "      <td>3.9284</td>\n",
              "      <td>204.0</td>\n",
              "      <td>14.9569</td>\n",
              "      <td>0.0</td>\n",
              "      <td>1015.94</td>\n",
              "      <td>Partly cloudy throughout the day.</td>\n",
              "    </tr>\n",
              "    <tr>\n",
              "      <th>3</th>\n",
              "      <td>2006-04-01 03:00:00.000 +0200</td>\n",
              "      <td>Partly Cloudy</td>\n",
              "      <td>rain</td>\n",
              "      <td>8.288889</td>\n",
              "      <td>5.944444</td>\n",
              "      <td>0.83</td>\n",
              "      <td>14.1036</td>\n",
              "      <td>269.0</td>\n",
              "      <td>15.8263</td>\n",
              "      <td>0.0</td>\n",
              "      <td>1016.41</td>\n",
              "      <td>Partly cloudy throughout the day.</td>\n",
              "    </tr>\n",
              "    <tr>\n",
              "      <th>4</th>\n",
              "      <td>2006-04-01 04:00:00.000 +0200</td>\n",
              "      <td>Mostly Cloudy</td>\n",
              "      <td>rain</td>\n",
              "      <td>8.755556</td>\n",
              "      <td>6.977778</td>\n",
              "      <td>0.83</td>\n",
              "      <td>11.0446</td>\n",
              "      <td>259.0</td>\n",
              "      <td>15.8263</td>\n",
              "      <td>0.0</td>\n",
              "      <td>1016.51</td>\n",
              "      <td>Partly cloudy throughout the day.</td>\n",
              "    </tr>\n",
              "  </tbody>\n",
              "</table>\n",
              "</div>"
            ],
            "text/plain": [
              "                  Formatted Date  ...                      Daily Summary\n",
              "0  2006-04-01 00:00:00.000 +0200  ...  Partly cloudy throughout the day.\n",
              "1  2006-04-01 01:00:00.000 +0200  ...  Partly cloudy throughout the day.\n",
              "2  2006-04-01 02:00:00.000 +0200  ...  Partly cloudy throughout the day.\n",
              "3  2006-04-01 03:00:00.000 +0200  ...  Partly cloudy throughout the day.\n",
              "4  2006-04-01 04:00:00.000 +0200  ...  Partly cloudy throughout the day.\n",
              "\n",
              "[5 rows x 12 columns]"
            ]
          },
          "metadata": {
            "tags": []
          },
          "execution_count": 4
        }
      ]
    },
    {
      "cell_type": "markdown",
      "metadata": {
        "id": "_A07b-EKPNU_"
      },
      "source": [
        "#**Show all the columns**"
      ]
    },
    {
      "cell_type": "code",
      "metadata": {
        "colab": {
          "base_uri": "https://localhost:8080/"
        },
        "id": "rPEIkqh5MmeF",
        "outputId": "2268c352-1650-4e02-c4fe-c6f9cbfe8df8"
      },
      "source": [
        "weather.columns"
      ],
      "execution_count": null,
      "outputs": [
        {
          "output_type": "execute_result",
          "data": {
            "text/plain": [
              "Index(['Formatted Date', 'Summary', 'Precip Type', 'Temperature (C)',\n",
              "       'Apparent Temperature (C)', 'Humidity', 'Wind Speed (km/h)',\n",
              "       'Wind Bearing (degrees)', 'Visibility (km)', 'Loud Cover',\n",
              "       'Pressure (millibars)', 'Daily Summary'],\n",
              "      dtype='object')"
            ]
          },
          "metadata": {
            "tags": []
          },
          "execution_count": 5
        }
      ]
    },
    {
      "cell_type": "code",
      "metadata": {
        "colab": {
          "base_uri": "https://localhost:8080/"
        },
        "id": "KV3PZPezMpt9",
        "outputId": "e1be157e-2fed-46ae-a8d2-6b90236ef165"
      },
      "source": [
        "weather.shape"
      ],
      "execution_count": null,
      "outputs": [
        {
          "output_type": "execute_result",
          "data": {
            "text/plain": [
              "(96453, 12)"
            ]
          },
          "metadata": {
            "tags": []
          },
          "execution_count": 6
        }
      ]
    },
    {
      "cell_type": "markdown",
      "metadata": {
        "id": "ME6oXjnJPdc4"
      },
      "source": [
        "#**Describe the dataset**"
      ]
    },
    {
      "cell_type": "code",
      "metadata": {
        "colab": {
          "base_uri": "https://localhost:8080/",
          "height": 284
        },
        "id": "WTfoHMP-MtPa",
        "outputId": "6f7ca2cc-1b70-4432-d366-235ae83e531b"
      },
      "source": [
        "weather.describe()"
      ],
      "execution_count": null,
      "outputs": [
        {
          "output_type": "execute_result",
          "data": {
            "text/html": [
              "<div>\n",
              "<style scoped>\n",
              "    .dataframe tbody tr th:only-of-type {\n",
              "        vertical-align: middle;\n",
              "    }\n",
              "\n",
              "    .dataframe tbody tr th {\n",
              "        vertical-align: top;\n",
              "    }\n",
              "\n",
              "    .dataframe thead th {\n",
              "        text-align: right;\n",
              "    }\n",
              "</style>\n",
              "<table border=\"1\" class=\"dataframe\">\n",
              "  <thead>\n",
              "    <tr style=\"text-align: right;\">\n",
              "      <th></th>\n",
              "      <th>Temperature (C)</th>\n",
              "      <th>Apparent Temperature (C)</th>\n",
              "      <th>Humidity</th>\n",
              "      <th>Wind Speed (km/h)</th>\n",
              "      <th>Wind Bearing (degrees)</th>\n",
              "      <th>Visibility (km)</th>\n",
              "      <th>Loud Cover</th>\n",
              "      <th>Pressure (millibars)</th>\n",
              "    </tr>\n",
              "  </thead>\n",
              "  <tbody>\n",
              "    <tr>\n",
              "      <th>count</th>\n",
              "      <td>96453.000000</td>\n",
              "      <td>96453.000000</td>\n",
              "      <td>96453.000000</td>\n",
              "      <td>96453.000000</td>\n",
              "      <td>96453.000000</td>\n",
              "      <td>96453.000000</td>\n",
              "      <td>96453.0</td>\n",
              "      <td>96453.000000</td>\n",
              "    </tr>\n",
              "    <tr>\n",
              "      <th>mean</th>\n",
              "      <td>11.932678</td>\n",
              "      <td>10.855029</td>\n",
              "      <td>0.734899</td>\n",
              "      <td>10.810640</td>\n",
              "      <td>187.509232</td>\n",
              "      <td>10.347325</td>\n",
              "      <td>0.0</td>\n",
              "      <td>1003.235956</td>\n",
              "    </tr>\n",
              "    <tr>\n",
              "      <th>std</th>\n",
              "      <td>9.551546</td>\n",
              "      <td>10.696847</td>\n",
              "      <td>0.195473</td>\n",
              "      <td>6.913571</td>\n",
              "      <td>107.383428</td>\n",
              "      <td>4.192123</td>\n",
              "      <td>0.0</td>\n",
              "      <td>116.969906</td>\n",
              "    </tr>\n",
              "    <tr>\n",
              "      <th>min</th>\n",
              "      <td>-21.822222</td>\n",
              "      <td>-27.716667</td>\n",
              "      <td>0.000000</td>\n",
              "      <td>0.000000</td>\n",
              "      <td>0.000000</td>\n",
              "      <td>0.000000</td>\n",
              "      <td>0.0</td>\n",
              "      <td>0.000000</td>\n",
              "    </tr>\n",
              "    <tr>\n",
              "      <th>25%</th>\n",
              "      <td>4.688889</td>\n",
              "      <td>2.311111</td>\n",
              "      <td>0.600000</td>\n",
              "      <td>5.828200</td>\n",
              "      <td>116.000000</td>\n",
              "      <td>8.339800</td>\n",
              "      <td>0.0</td>\n",
              "      <td>1011.900000</td>\n",
              "    </tr>\n",
              "    <tr>\n",
              "      <th>50%</th>\n",
              "      <td>12.000000</td>\n",
              "      <td>12.000000</td>\n",
              "      <td>0.780000</td>\n",
              "      <td>9.965900</td>\n",
              "      <td>180.000000</td>\n",
              "      <td>10.046400</td>\n",
              "      <td>0.0</td>\n",
              "      <td>1016.450000</td>\n",
              "    </tr>\n",
              "    <tr>\n",
              "      <th>75%</th>\n",
              "      <td>18.838889</td>\n",
              "      <td>18.838889</td>\n",
              "      <td>0.890000</td>\n",
              "      <td>14.135800</td>\n",
              "      <td>290.000000</td>\n",
              "      <td>14.812000</td>\n",
              "      <td>0.0</td>\n",
              "      <td>1021.090000</td>\n",
              "    </tr>\n",
              "    <tr>\n",
              "      <th>max</th>\n",
              "      <td>39.905556</td>\n",
              "      <td>39.344444</td>\n",
              "      <td>1.000000</td>\n",
              "      <td>63.852600</td>\n",
              "      <td>359.000000</td>\n",
              "      <td>16.100000</td>\n",
              "      <td>0.0</td>\n",
              "      <td>1046.380000</td>\n",
              "    </tr>\n",
              "  </tbody>\n",
              "</table>\n",
              "</div>"
            ],
            "text/plain": [
              "       Temperature (C)  ...  Pressure (millibars)\n",
              "count     96453.000000  ...          96453.000000\n",
              "mean         11.932678  ...           1003.235956\n",
              "std           9.551546  ...            116.969906\n",
              "min         -21.822222  ...              0.000000\n",
              "25%           4.688889  ...           1011.900000\n",
              "50%          12.000000  ...           1016.450000\n",
              "75%          18.838889  ...           1021.090000\n",
              "max          39.905556  ...           1046.380000\n",
              "\n",
              "[8 rows x 8 columns]"
            ]
          },
          "metadata": {
            "tags": []
          },
          "execution_count": 7
        }
      ]
    },
    {
      "cell_type": "markdown",
      "metadata": {
        "id": "zcIZ6M9oPl2S"
      },
      "source": [
        "#**Show the null value**"
      ]
    },
    {
      "cell_type": "code",
      "metadata": {
        "colab": {
          "base_uri": "https://localhost:8080/"
        },
        "id": "IazBILZpMyFR",
        "outputId": "9e170467-9c35-4d2a-ce50-4f9f6ce3754f"
      },
      "source": [
        "weather.isnull().any()"
      ],
      "execution_count": null,
      "outputs": [
        {
          "output_type": "execute_result",
          "data": {
            "text/plain": [
              "Formatted Date              False\n",
              "Summary                     False\n",
              "Precip Type                  True\n",
              "Temperature (C)             False\n",
              "Apparent Temperature (C)    False\n",
              "Humidity                    False\n",
              "Wind Speed (km/h)           False\n",
              "Wind Bearing (degrees)      False\n",
              "Visibility (km)             False\n",
              "Loud Cover                  False\n",
              "Pressure (millibars)        False\n",
              "Daily Summary               False\n",
              "dtype: bool"
            ]
          },
          "metadata": {
            "tags": []
          },
          "execution_count": 8
        }
      ]
    },
    {
      "cell_type": "markdown",
      "metadata": {
        "id": "YGrfcU61PvJq"
      },
      "source": [
        "#**Value counts**"
      ]
    },
    {
      "cell_type": "code",
      "metadata": {
        "colab": {
          "base_uri": "https://localhost:8080/"
        },
        "id": "RcGjFSQuM4wM",
        "outputId": "9098c3ed-fd8f-4b73-e4f7-ccc86dac20ba"
      },
      "source": [
        "weather['Precip Type'].value_counts()"
      ],
      "execution_count": null,
      "outputs": [
        {
          "output_type": "execute_result",
          "data": {
            "text/plain": [
              "rain    85224\n",
              "snow    10712\n",
              "Name: Precip Type, dtype: int64"
            ]
          },
          "metadata": {
            "tags": []
          },
          "execution_count": 9
        }
      ]
    },
    {
      "cell_type": "markdown",
      "metadata": {
        "id": "BdYwHnBJP0gE"
      },
      "source": [
        "#**Convert string into number**"
      ]
    },
    {
      "cell_type": "code",
      "metadata": {
        "id": "V1kcpWL5NCNt"
      },
      "source": [
        "weather.loc[weather['Precip Type'].isnull(),'Precip Type'] = 'rain'"
      ],
      "execution_count": null,
      "outputs": []
    },
    {
      "cell_type": "code",
      "metadata": {
        "id": "mVQO2SQINZbq"
      },
      "source": [
        "weather.loc[weather['Precip Type'] == 'rain', 'Precip Type'] = 1\n",
        "weather.loc[weather['Precip Type'] == 'snow', 'Precip Type'] = 0"
      ],
      "execution_count": null,
      "outputs": []
    },
    {
      "cell_type": "code",
      "metadata": {
        "id": "Q_aW-MwGNu9Y"
      },
      "source": [
        "weather_num = weather[list(weather.dtypes[weather.dtypes!='object'].index)]"
      ],
      "execution_count": null,
      "outputs": []
    },
    {
      "cell_type": "code",
      "metadata": {
        "id": "DL71x-W1ODLz"
      },
      "source": [
        "weather_y = weather_num.pop('Temperature (C)')\n",
        "weather_X = weather_num"
      ],
      "execution_count": null,
      "outputs": []
    },
    {
      "cell_type": "code",
      "metadata": {
        "colab": {
          "base_uri": "https://localhost:8080/",
          "height": 296
        },
        "id": "b7b9UdFbOXhK",
        "outputId": "d69a63a4-1613-431f-8260-752585313f91"
      },
      "source": [
        "weather.head()"
      ],
      "execution_count": null,
      "outputs": [
        {
          "output_type": "execute_result",
          "data": {
            "text/html": [
              "<div>\n",
              "<style scoped>\n",
              "    .dataframe tbody tr th:only-of-type {\n",
              "        vertical-align: middle;\n",
              "    }\n",
              "\n",
              "    .dataframe tbody tr th {\n",
              "        vertical-align: top;\n",
              "    }\n",
              "\n",
              "    .dataframe thead th {\n",
              "        text-align: right;\n",
              "    }\n",
              "</style>\n",
              "<table border=\"1\" class=\"dataframe\">\n",
              "  <thead>\n",
              "    <tr style=\"text-align: right;\">\n",
              "      <th></th>\n",
              "      <th>Formatted Date</th>\n",
              "      <th>Summary</th>\n",
              "      <th>Precip Type</th>\n",
              "      <th>Temperature (C)</th>\n",
              "      <th>Apparent Temperature (C)</th>\n",
              "      <th>Humidity</th>\n",
              "      <th>Wind Speed (km/h)</th>\n",
              "      <th>Wind Bearing (degrees)</th>\n",
              "      <th>Visibility (km)</th>\n",
              "      <th>Loud Cover</th>\n",
              "      <th>Pressure (millibars)</th>\n",
              "      <th>Daily Summary</th>\n",
              "    </tr>\n",
              "  </thead>\n",
              "  <tbody>\n",
              "    <tr>\n",
              "      <th>0</th>\n",
              "      <td>2006-04-01 00:00:00.000 +0200</td>\n",
              "      <td>Partly Cloudy</td>\n",
              "      <td>1</td>\n",
              "      <td>9.472222</td>\n",
              "      <td>7.388889</td>\n",
              "      <td>0.89</td>\n",
              "      <td>14.1197</td>\n",
              "      <td>251.0</td>\n",
              "      <td>15.8263</td>\n",
              "      <td>0.0</td>\n",
              "      <td>1015.13</td>\n",
              "      <td>Partly cloudy throughout the day.</td>\n",
              "    </tr>\n",
              "    <tr>\n",
              "      <th>1</th>\n",
              "      <td>2006-04-01 01:00:00.000 +0200</td>\n",
              "      <td>Partly Cloudy</td>\n",
              "      <td>1</td>\n",
              "      <td>9.355556</td>\n",
              "      <td>7.227778</td>\n",
              "      <td>0.86</td>\n",
              "      <td>14.2646</td>\n",
              "      <td>259.0</td>\n",
              "      <td>15.8263</td>\n",
              "      <td>0.0</td>\n",
              "      <td>1015.63</td>\n",
              "      <td>Partly cloudy throughout the day.</td>\n",
              "    </tr>\n",
              "    <tr>\n",
              "      <th>2</th>\n",
              "      <td>2006-04-01 02:00:00.000 +0200</td>\n",
              "      <td>Mostly Cloudy</td>\n",
              "      <td>1</td>\n",
              "      <td>9.377778</td>\n",
              "      <td>9.377778</td>\n",
              "      <td>0.89</td>\n",
              "      <td>3.9284</td>\n",
              "      <td>204.0</td>\n",
              "      <td>14.9569</td>\n",
              "      <td>0.0</td>\n",
              "      <td>1015.94</td>\n",
              "      <td>Partly cloudy throughout the day.</td>\n",
              "    </tr>\n",
              "    <tr>\n",
              "      <th>3</th>\n",
              "      <td>2006-04-01 03:00:00.000 +0200</td>\n",
              "      <td>Partly Cloudy</td>\n",
              "      <td>1</td>\n",
              "      <td>8.288889</td>\n",
              "      <td>5.944444</td>\n",
              "      <td>0.83</td>\n",
              "      <td>14.1036</td>\n",
              "      <td>269.0</td>\n",
              "      <td>15.8263</td>\n",
              "      <td>0.0</td>\n",
              "      <td>1016.41</td>\n",
              "      <td>Partly cloudy throughout the day.</td>\n",
              "    </tr>\n",
              "    <tr>\n",
              "      <th>4</th>\n",
              "      <td>2006-04-01 04:00:00.000 +0200</td>\n",
              "      <td>Mostly Cloudy</td>\n",
              "      <td>1</td>\n",
              "      <td>8.755556</td>\n",
              "      <td>6.977778</td>\n",
              "      <td>0.83</td>\n",
              "      <td>11.0446</td>\n",
              "      <td>259.0</td>\n",
              "      <td>15.8263</td>\n",
              "      <td>0.0</td>\n",
              "      <td>1016.51</td>\n",
              "      <td>Partly cloudy throughout the day.</td>\n",
              "    </tr>\n",
              "  </tbody>\n",
              "</table>\n",
              "</div>"
            ],
            "text/plain": [
              "                  Formatted Date  ...                      Daily Summary\n",
              "0  2006-04-01 00:00:00.000 +0200  ...  Partly cloudy throughout the day.\n",
              "1  2006-04-01 01:00:00.000 +0200  ...  Partly cloudy throughout the day.\n",
              "2  2006-04-01 02:00:00.000 +0200  ...  Partly cloudy throughout the day.\n",
              "3  2006-04-01 03:00:00.000 +0200  ...  Partly cloudy throughout the day.\n",
              "4  2006-04-01 04:00:00.000 +0200  ...  Partly cloudy throughout the day.\n",
              "\n",
              "[5 rows x 12 columns]"
            ]
          },
          "metadata": {
            "tags": []
          },
          "execution_count": 14
        }
      ]
    },
    {
      "cell_type": "markdown",
      "metadata": {
        "id": "IaXRmdlhD7Yq"
      },
      "source": [
        "#**Split dataset into train and test**"
      ]
    },
    {
      "cell_type": "code",
      "metadata": {
        "id": "qkLdoP2RD66K"
      },
      "source": [
        "X_train, X_test, y_train, y_test = train_test_split(weather_X, weather_y, test_size = 0.2, random_state = 4)"
      ],
      "execution_count": null,
      "outputs": []
    },
    {
      "cell_type": "code",
      "metadata": {
        "colab": {
          "base_uri": "https://localhost:8080/",
          "height": 195
        },
        "id": "84a-NQ6wE_RT",
        "outputId": "5251e6df-2b55-4544-8de4-899fafad96c9"
      },
      "source": [
        "X_train.head()"
      ],
      "execution_count": null,
      "outputs": [
        {
          "output_type": "execute_result",
          "data": {
            "text/html": [
              "<div>\n",
              "<style scoped>\n",
              "    .dataframe tbody tr th:only-of-type {\n",
              "        vertical-align: middle;\n",
              "    }\n",
              "\n",
              "    .dataframe tbody tr th {\n",
              "        vertical-align: top;\n",
              "    }\n",
              "\n",
              "    .dataframe thead th {\n",
              "        text-align: right;\n",
              "    }\n",
              "</style>\n",
              "<table border=\"1\" class=\"dataframe\">\n",
              "  <thead>\n",
              "    <tr style=\"text-align: right;\">\n",
              "      <th></th>\n",
              "      <th>Apparent Temperature (C)</th>\n",
              "      <th>Humidity</th>\n",
              "      <th>Wind Speed (km/h)</th>\n",
              "      <th>Wind Bearing (degrees)</th>\n",
              "      <th>Visibility (km)</th>\n",
              "      <th>Loud Cover</th>\n",
              "      <th>Pressure (millibars)</th>\n",
              "    </tr>\n",
              "  </thead>\n",
              "  <tbody>\n",
              "    <tr>\n",
              "      <th>70626</th>\n",
              "      <td>21.061111</td>\n",
              "      <td>0.31</td>\n",
              "      <td>12.5580</td>\n",
              "      <td>110.0</td>\n",
              "      <td>16.1000</td>\n",
              "      <td>0.0</td>\n",
              "      <td>1005.87</td>\n",
              "    </tr>\n",
              "    <tr>\n",
              "      <th>52457</th>\n",
              "      <td>25.016667</td>\n",
              "      <td>0.36</td>\n",
              "      <td>18.4989</td>\n",
              "      <td>352.0</td>\n",
              "      <td>10.3523</td>\n",
              "      <td>0.0</td>\n",
              "      <td>1025.36</td>\n",
              "    </tr>\n",
              "    <tr>\n",
              "      <th>90690</th>\n",
              "      <td>0.738889</td>\n",
              "      <td>0.89</td>\n",
              "      <td>17.1304</td>\n",
              "      <td>270.0</td>\n",
              "      <td>15.8263</td>\n",
              "      <td>0.0</td>\n",
              "      <td>1014.75</td>\n",
              "    </tr>\n",
              "    <tr>\n",
              "      <th>69528</th>\n",
              "      <td>13.772222</td>\n",
              "      <td>0.78</td>\n",
              "      <td>14.4900</td>\n",
              "      <td>300.0</td>\n",
              "      <td>15.8263</td>\n",
              "      <td>0.0</td>\n",
              "      <td>1014.56</td>\n",
              "    </tr>\n",
              "    <tr>\n",
              "      <th>92419</th>\n",
              "      <td>23.288889</td>\n",
              "      <td>0.82</td>\n",
              "      <td>6.3917</td>\n",
              "      <td>357.0</td>\n",
              "      <td>16.1000</td>\n",
              "      <td>0.0</td>\n",
              "      <td>1022.05</td>\n",
              "    </tr>\n",
              "  </tbody>\n",
              "</table>\n",
              "</div>"
            ],
            "text/plain": [
              "       Apparent Temperature (C)  Humidity  ...  Loud Cover  Pressure (millibars)\n",
              "70626                 21.061111      0.31  ...         0.0               1005.87\n",
              "52457                 25.016667      0.36  ...         0.0               1025.36\n",
              "90690                  0.738889      0.89  ...         0.0               1014.75\n",
              "69528                 13.772222      0.78  ...         0.0               1014.56\n",
              "92419                 23.288889      0.82  ...         0.0               1022.05\n",
              "\n",
              "[5 rows x 7 columns]"
            ]
          },
          "metadata": {
            "tags": []
          },
          "execution_count": 16
        }
      ]
    },
    {
      "cell_type": "markdown",
      "metadata": {
        "id": "zlDT861ZGgeZ"
      },
      "source": [
        "#**Linear Regression**"
      ]
    },
    {
      "cell_type": "code",
      "metadata": {
        "colab": {
          "base_uri": "https://localhost:8080/"
        },
        "id": "px70YiyVGf3S",
        "outputId": "74e283c9-5c45-476b-8a00-4b9be297c11f"
      },
      "source": [
        "model = LinearRegression()\n",
        "model.fit(X_train, y_train)"
      ],
      "execution_count": null,
      "outputs": [
        {
          "output_type": "execute_result",
          "data": {
            "text/plain": [
              "LinearRegression(copy_X=True, fit_intercept=True, n_jobs=None, normalize=False)"
            ]
          },
          "metadata": {
            "tags": []
          },
          "execution_count": 17
        }
      ]
    },
    {
      "cell_type": "code",
      "metadata": {
        "id": "RI4jJHu0GwAg"
      },
      "source": [
        "prediction = model.predict(X_test)"
      ],
      "execution_count": null,
      "outputs": []
    },
    {
      "cell_type": "code",
      "metadata": {
        "colab": {
          "base_uri": "https://localhost:8080/"
        },
        "id": "6Dd5E408G15t",
        "outputId": "14b96a14-142a-4914-8be2-023dc05f46ab"
      },
      "source": [
        "np.mean((prediction-y_test)**2)"
      ],
      "execution_count": null,
      "outputs": [
        {
          "output_type": "execute_result",
          "data": {
            "text/plain": [
              "0.902274371188337"
            ]
          },
          "metadata": {
            "tags": []
          },
          "execution_count": 19
        }
      ]
    },
    {
      "cell_type": "code",
      "metadata": {
        "colab": {
          "base_uri": "https://localhost:8080/",
          "height": 402
        },
        "id": "wF8eLYbEHDeP",
        "outputId": "32cf7604-470d-4f75-a256-0a99ebc2e9b1"
      },
      "source": [
        "pd.DataFrame({'actual': y_test,\n",
        "              'prediction': prediction,\n",
        "              'diff': (y_test-prediction)})"
      ],
      "execution_count": null,
      "outputs": [
        {
          "output_type": "execute_result",
          "data": {
            "text/html": [
              "<div>\n",
              "<style scoped>\n",
              "    .dataframe tbody tr th:only-of-type {\n",
              "        vertical-align: middle;\n",
              "    }\n",
              "\n",
              "    .dataframe tbody tr th {\n",
              "        vertical-align: top;\n",
              "    }\n",
              "\n",
              "    .dataframe thead th {\n",
              "        text-align: right;\n",
              "    }\n",
              "</style>\n",
              "<table border=\"1\" class=\"dataframe\">\n",
              "  <thead>\n",
              "    <tr style=\"text-align: right;\">\n",
              "      <th></th>\n",
              "      <th>actual</th>\n",
              "      <th>prediction</th>\n",
              "      <th>diff</th>\n",
              "    </tr>\n",
              "  </thead>\n",
              "  <tbody>\n",
              "    <tr>\n",
              "      <th>37443</th>\n",
              "      <td>-2.288889</td>\n",
              "      <td>-3.355714</td>\n",
              "      <td>1.066825</td>\n",
              "    </tr>\n",
              "    <tr>\n",
              "      <th>86534</th>\n",
              "      <td>8.861111</td>\n",
              "      <td>9.418530</td>\n",
              "      <td>-0.557419</td>\n",
              "    </tr>\n",
              "    <tr>\n",
              "      <th>2082</th>\n",
              "      <td>9.805556</td>\n",
              "      <td>9.701321</td>\n",
              "      <td>0.104235</td>\n",
              "    </tr>\n",
              "    <tr>\n",
              "      <th>53130</th>\n",
              "      <td>27.222222</td>\n",
              "      <td>27.096837</td>\n",
              "      <td>0.125385</td>\n",
              "    </tr>\n",
              "    <tr>\n",
              "      <th>45196</th>\n",
              "      <td>17.705556</td>\n",
              "      <td>17.302053</td>\n",
              "      <td>0.403503</td>\n",
              "    </tr>\n",
              "    <tr>\n",
              "      <th>...</th>\n",
              "      <td>...</td>\n",
              "      <td>...</td>\n",
              "      <td>...</td>\n",
              "    </tr>\n",
              "    <tr>\n",
              "      <th>55387</th>\n",
              "      <td>-10.066667</td>\n",
              "      <td>-11.960987</td>\n",
              "      <td>1.894320</td>\n",
              "    </tr>\n",
              "    <tr>\n",
              "      <th>25976</th>\n",
              "      <td>9.972222</td>\n",
              "      <td>9.831699</td>\n",
              "      <td>0.140523</td>\n",
              "    </tr>\n",
              "    <tr>\n",
              "      <th>32423</th>\n",
              "      <td>12.777778</td>\n",
              "      <td>15.436904</td>\n",
              "      <td>-2.659127</td>\n",
              "    </tr>\n",
              "    <tr>\n",
              "      <th>26570</th>\n",
              "      <td>15.277778</td>\n",
              "      <td>16.307788</td>\n",
              "      <td>-1.030010</td>\n",
              "    </tr>\n",
              "    <tr>\n",
              "      <th>45834</th>\n",
              "      <td>2.200000</td>\n",
              "      <td>3.666659</td>\n",
              "      <td>-1.466659</td>\n",
              "    </tr>\n",
              "  </tbody>\n",
              "</table>\n",
              "<p>19291 rows × 3 columns</p>\n",
              "</div>"
            ],
            "text/plain": [
              "          actual  prediction      diff\n",
              "37443  -2.288889   -3.355714  1.066825\n",
              "86534   8.861111    9.418530 -0.557419\n",
              "2082    9.805556    9.701321  0.104235\n",
              "53130  27.222222   27.096837  0.125385\n",
              "45196  17.705556   17.302053  0.403503\n",
              "...          ...         ...       ...\n",
              "55387 -10.066667  -11.960987  1.894320\n",
              "25976   9.972222    9.831699  0.140523\n",
              "32423  12.777778   15.436904 -2.659127\n",
              "26570  15.277778   16.307788 -1.030010\n",
              "45834   2.200000    3.666659 -1.466659\n",
              "\n",
              "[19291 rows x 3 columns]"
            ]
          },
          "metadata": {
            "tags": []
          },
          "execution_count": 20
        }
      ]
    },
    {
      "cell_type": "markdown",
      "metadata": {
        "id": "nfLRMTNOHuGB"
      },
      "source": [
        "**The error for this model is --- 0.90227**"
      ]
    },
    {
      "cell_type": "markdown",
      "metadata": {
        "id": "mX-f2rKrH2KA"
      },
      "source": [
        "#**Plynomial Regression**"
      ]
    },
    {
      "cell_type": "code",
      "metadata": {
        "colab": {
          "base_uri": "https://localhost:8080/"
        },
        "id": "AhEnr-wyIARa",
        "outputId": "3d8cbc9f-c967-49f1-e623-fd34242f1eb2"
      },
      "source": [
        "from sklearn.preprocessing import PolynomialFeatures\n",
        "\n",
        "poly = PolynomialFeatures(degree = 4)\n",
        "X_poly = poly.fit_transform(X_train)\n",
        "\n",
        "poly.fit(X_poly, y_train)\n",
        "lin2 = LinearRegression()\n",
        "lin2.fit(X_poly, y_train)"
      ],
      "execution_count": null,
      "outputs": [
        {
          "output_type": "execute_result",
          "data": {
            "text/plain": [
              "LinearRegression(copy_X=True, fit_intercept=True, n_jobs=None, normalize=False)"
            ]
          },
          "metadata": {
            "tags": []
          },
          "execution_count": 21
        }
      ]
    },
    {
      "cell_type": "code",
      "metadata": {
        "colab": {
          "base_uri": "https://localhost:8080/"
        },
        "id": "Df0ufbk4IuUi",
        "outputId": "0aa606bc-4b4b-46c1-ec1a-26d6746c19e7"
      },
      "source": [
        "prediction2 = lin2.predict(poly.fit_transform(X_test))\n",
        "np.mean((prediction2-y_test)**2)"
      ],
      "execution_count": null,
      "outputs": [
        {
          "output_type": "execute_result",
          "data": {
            "text/plain": [
              "0.14602317508410093"
            ]
          },
          "metadata": {
            "tags": []
          },
          "execution_count": 22
        }
      ]
    },
    {
      "cell_type": "code",
      "metadata": {
        "colab": {
          "base_uri": "https://localhost:8080/",
          "height": 402
        },
        "id": "TcoQ-AKyJUN_",
        "outputId": "4882fcca-b9f7-4144-f36e-2aae8b93462f"
      },
      "source": [
        "pd.DataFrame({'actual': y_test,\n",
        "              'prediction': prediction2,\n",
        "              'diff': (y_test-prediction2)})"
      ],
      "execution_count": null,
      "outputs": [
        {
          "output_type": "execute_result",
          "data": {
            "text/html": [
              "<div>\n",
              "<style scoped>\n",
              "    .dataframe tbody tr th:only-of-type {\n",
              "        vertical-align: middle;\n",
              "    }\n",
              "\n",
              "    .dataframe tbody tr th {\n",
              "        vertical-align: top;\n",
              "    }\n",
              "\n",
              "    .dataframe thead th {\n",
              "        text-align: right;\n",
              "    }\n",
              "</style>\n",
              "<table border=\"1\" class=\"dataframe\">\n",
              "  <thead>\n",
              "    <tr style=\"text-align: right;\">\n",
              "      <th></th>\n",
              "      <th>actual</th>\n",
              "      <th>prediction</th>\n",
              "      <th>diff</th>\n",
              "    </tr>\n",
              "  </thead>\n",
              "  <tbody>\n",
              "    <tr>\n",
              "      <th>37443</th>\n",
              "      <td>-2.288889</td>\n",
              "      <td>-2.188155</td>\n",
              "      <td>-0.100734</td>\n",
              "    </tr>\n",
              "    <tr>\n",
              "      <th>86534</th>\n",
              "      <td>8.861111</td>\n",
              "      <td>9.113336</td>\n",
              "      <td>-0.252225</td>\n",
              "    </tr>\n",
              "    <tr>\n",
              "      <th>2082</th>\n",
              "      <td>9.805556</td>\n",
              "      <td>9.602271</td>\n",
              "      <td>0.203285</td>\n",
              "    </tr>\n",
              "    <tr>\n",
              "      <th>53130</th>\n",
              "      <td>27.222222</td>\n",
              "      <td>27.130414</td>\n",
              "      <td>0.091808</td>\n",
              "    </tr>\n",
              "    <tr>\n",
              "      <th>45196</th>\n",
              "      <td>17.705556</td>\n",
              "      <td>17.770751</td>\n",
              "      <td>-0.065196</td>\n",
              "    </tr>\n",
              "    <tr>\n",
              "      <th>...</th>\n",
              "      <td>...</td>\n",
              "      <td>...</td>\n",
              "      <td>...</td>\n",
              "    </tr>\n",
              "    <tr>\n",
              "      <th>55387</th>\n",
              "      <td>-10.066667</td>\n",
              "      <td>-10.172420</td>\n",
              "      <td>0.105753</td>\n",
              "    </tr>\n",
              "    <tr>\n",
              "      <th>25976</th>\n",
              "      <td>9.972222</td>\n",
              "      <td>9.773758</td>\n",
              "      <td>0.198464</td>\n",
              "    </tr>\n",
              "    <tr>\n",
              "      <th>32423</th>\n",
              "      <td>12.777778</td>\n",
              "      <td>13.294539</td>\n",
              "      <td>-0.516761</td>\n",
              "    </tr>\n",
              "    <tr>\n",
              "      <th>26570</th>\n",
              "      <td>15.277778</td>\n",
              "      <td>15.414607</td>\n",
              "      <td>-0.136829</td>\n",
              "    </tr>\n",
              "    <tr>\n",
              "      <th>45834</th>\n",
              "      <td>2.200000</td>\n",
              "      <td>2.957100</td>\n",
              "      <td>-0.757100</td>\n",
              "    </tr>\n",
              "  </tbody>\n",
              "</table>\n",
              "<p>19291 rows × 3 columns</p>\n",
              "</div>"
            ],
            "text/plain": [
              "          actual  prediction      diff\n",
              "37443  -2.288889   -2.188155 -0.100734\n",
              "86534   8.861111    9.113336 -0.252225\n",
              "2082    9.805556    9.602271  0.203285\n",
              "53130  27.222222   27.130414  0.091808\n",
              "45196  17.705556   17.770751 -0.065196\n",
              "...          ...         ...       ...\n",
              "55387 -10.066667  -10.172420  0.105753\n",
              "25976   9.972222    9.773758  0.198464\n",
              "32423  12.777778   13.294539 -0.516761\n",
              "26570  15.277778   15.414607 -0.136829\n",
              "45834   2.200000    2.957100 -0.757100\n",
              "\n",
              "[19291 rows x 3 columns]"
            ]
          },
          "metadata": {
            "tags": []
          },
          "execution_count": 23
        }
      ]
    },
    {
      "cell_type": "markdown",
      "metadata": {
        "id": "OZntrIv6JiS9"
      },
      "source": [
        "**Error -- 0.14602**"
      ]
    },
    {
      "cell_type": "markdown",
      "metadata": {
        "id": "lHa9C1v-Jnvj"
      },
      "source": [
        "#**Decission Tree Regression**"
      ]
    },
    {
      "cell_type": "code",
      "metadata": {
        "colab": {
          "base_uri": "https://localhost:8080/"
        },
        "id": "TSd2JIuyJvsH",
        "outputId": "c96ef351-3fd2-4340-e253-2f8c7f3a5084"
      },
      "source": [
        "from sklearn.tree import DecisionTreeRegressor\n",
        "regressor = DecisionTreeRegressor(random_state = 0)\n",
        "regressor.fit(X_train, y_train)"
      ],
      "execution_count": null,
      "outputs": [
        {
          "output_type": "execute_result",
          "data": {
            "text/plain": [
              "DecisionTreeRegressor(ccp_alpha=0.0, criterion='mse', max_depth=None,\n",
              "                      max_features=None, max_leaf_nodes=None,\n",
              "                      min_impurity_decrease=0.0, min_impurity_split=None,\n",
              "                      min_samples_leaf=1, min_samples_split=2,\n",
              "                      min_weight_fraction_leaf=0.0, presort='deprecated',\n",
              "                      random_state=0, splitter='best')"
            ]
          },
          "metadata": {
            "tags": []
          },
          "execution_count": 24
        }
      ]
    },
    {
      "cell_type": "code",
      "metadata": {
        "colab": {
          "base_uri": "https://localhost:8080/"
        },
        "id": "eFqIcC9sKCae",
        "outputId": "a022cadd-1ef5-45a9-ace6-6ad78585b358"
      },
      "source": [
        "prediction3 = regressor.predict(X_test)\n",
        "np.mean((prediction3-y_test)**2)"
      ],
      "execution_count": null,
      "outputs": [
        {
          "output_type": "execute_result",
          "data": {
            "text/plain": [
              "0.006723574480775507"
            ]
          },
          "metadata": {
            "tags": []
          },
          "execution_count": 25
        }
      ]
    },
    {
      "cell_type": "code",
      "metadata": {
        "colab": {
          "base_uri": "https://localhost:8080/",
          "height": 402
        },
        "id": "tuzjxpJaKSeI",
        "outputId": "9be1cf3a-b73a-4f2c-eb72-97b21fa26cdd"
      },
      "source": [
        "pd.DataFrame({'actual': y_test,\n",
        "              'prediction': prediction3,\n",
        "              'diff': (y_test-prediction3)})"
      ],
      "execution_count": null,
      "outputs": [
        {
          "output_type": "execute_result",
          "data": {
            "text/html": [
              "<div>\n",
              "<style scoped>\n",
              "    .dataframe tbody tr th:only-of-type {\n",
              "        vertical-align: middle;\n",
              "    }\n",
              "\n",
              "    .dataframe tbody tr th {\n",
              "        vertical-align: top;\n",
              "    }\n",
              "\n",
              "    .dataframe thead th {\n",
              "        text-align: right;\n",
              "    }\n",
              "</style>\n",
              "<table border=\"1\" class=\"dataframe\">\n",
              "  <thead>\n",
              "    <tr style=\"text-align: right;\">\n",
              "      <th></th>\n",
              "      <th>actual</th>\n",
              "      <th>prediction</th>\n",
              "      <th>diff</th>\n",
              "    </tr>\n",
              "  </thead>\n",
              "  <tbody>\n",
              "    <tr>\n",
              "      <th>37443</th>\n",
              "      <td>-2.288889</td>\n",
              "      <td>-2.272222</td>\n",
              "      <td>-1.666667e-02</td>\n",
              "    </tr>\n",
              "    <tr>\n",
              "      <th>86534</th>\n",
              "      <td>8.861111</td>\n",
              "      <td>8.855556</td>\n",
              "      <td>5.555556e-03</td>\n",
              "    </tr>\n",
              "    <tr>\n",
              "      <th>2082</th>\n",
              "      <td>9.805556</td>\n",
              "      <td>9.788889</td>\n",
              "      <td>1.666667e-02</td>\n",
              "    </tr>\n",
              "    <tr>\n",
              "      <th>53130</th>\n",
              "      <td>27.222222</td>\n",
              "      <td>27.222222</td>\n",
              "      <td>-3.552714e-15</td>\n",
              "    </tr>\n",
              "    <tr>\n",
              "      <th>45196</th>\n",
              "      <td>17.705556</td>\n",
              "      <td>17.705556</td>\n",
              "      <td>-7.105427e-15</td>\n",
              "    </tr>\n",
              "    <tr>\n",
              "      <th>...</th>\n",
              "      <td>...</td>\n",
              "      <td>...</td>\n",
              "      <td>...</td>\n",
              "    </tr>\n",
              "    <tr>\n",
              "      <th>55387</th>\n",
              "      <td>-10.066667</td>\n",
              "      <td>-10.000000</td>\n",
              "      <td>-6.666667e-02</td>\n",
              "    </tr>\n",
              "    <tr>\n",
              "      <th>25976</th>\n",
              "      <td>9.972222</td>\n",
              "      <td>9.972222</td>\n",
              "      <td>0.000000e+00</td>\n",
              "    </tr>\n",
              "    <tr>\n",
              "      <th>32423</th>\n",
              "      <td>12.777778</td>\n",
              "      <td>12.777778</td>\n",
              "      <td>-4.263256e-14</td>\n",
              "    </tr>\n",
              "    <tr>\n",
              "      <th>26570</th>\n",
              "      <td>15.277778</td>\n",
              "      <td>15.277778</td>\n",
              "      <td>3.552714e-15</td>\n",
              "    </tr>\n",
              "    <tr>\n",
              "      <th>45834</th>\n",
              "      <td>2.200000</td>\n",
              "      <td>2.200000</td>\n",
              "      <td>4.440892e-16</td>\n",
              "    </tr>\n",
              "  </tbody>\n",
              "</table>\n",
              "<p>19291 rows × 3 columns</p>\n",
              "</div>"
            ],
            "text/plain": [
              "          actual  prediction          diff\n",
              "37443  -2.288889   -2.272222 -1.666667e-02\n",
              "86534   8.861111    8.855556  5.555556e-03\n",
              "2082    9.805556    9.788889  1.666667e-02\n",
              "53130  27.222222   27.222222 -3.552714e-15\n",
              "45196  17.705556   17.705556 -7.105427e-15\n",
              "...          ...         ...           ...\n",
              "55387 -10.066667  -10.000000 -6.666667e-02\n",
              "25976   9.972222    9.972222  0.000000e+00\n",
              "32423  12.777778   12.777778 -4.263256e-14\n",
              "26570  15.277778   15.277778  3.552714e-15\n",
              "45834   2.200000    2.200000  4.440892e-16\n",
              "\n",
              "[19291 rows x 3 columns]"
            ]
          },
          "metadata": {
            "tags": []
          },
          "execution_count": 26
        }
      ]
    },
    {
      "cell_type": "markdown",
      "metadata": {
        "id": "Dr5zFZ1pKZsm"
      },
      "source": [
        "Error -- 0.0067"
      ]
    },
    {
      "cell_type": "markdown",
      "metadata": {
        "id": "k8FhtyKSKcmj"
      },
      "source": [
        "#**Random Forest with maximum Dept - 10**"
      ]
    },
    {
      "cell_type": "code",
      "metadata": {
        "colab": {
          "base_uri": "https://localhost:8080/"
        },
        "id": "kEh9BGNuKlvQ",
        "outputId": "00fbb3db-a8a3-435d-cc01-03ae39aeed0f"
      },
      "source": [
        "from sklearn.ensemble import RandomForestRegressor\n",
        "regr = RandomForestRegressor(max_depth = 10, random_state = 0, n_estimators = 100)\n",
        "regr.fit(X_train, y_train)"
      ],
      "execution_count": null,
      "outputs": [
        {
          "output_type": "execute_result",
          "data": {
            "text/plain": [
              "RandomForestRegressor(bootstrap=True, ccp_alpha=0.0, criterion='mse',\n",
              "                      max_depth=10, max_features='auto', max_leaf_nodes=None,\n",
              "                      max_samples=None, min_impurity_decrease=0.0,\n",
              "                      min_impurity_split=None, min_samples_leaf=1,\n",
              "                      min_samples_split=2, min_weight_fraction_leaf=0.0,\n",
              "                      n_estimators=100, n_jobs=None, oob_score=False,\n",
              "                      random_state=0, verbose=0, warm_start=False)"
            ]
          },
          "metadata": {
            "tags": []
          },
          "execution_count": 27
        }
      ]
    },
    {
      "cell_type": "code",
      "metadata": {
        "colab": {
          "base_uri": "https://localhost:8080/"
        },
        "id": "a_l-qvijLLbX",
        "outputId": "c3df2267-07a0-47cb-ae66-17f50e1d32cd"
      },
      "source": [
        "prediction4 = regr.predict(X_test)\n",
        "np.mean((prediction4-y_test)**2)"
      ],
      "execution_count": null,
      "outputs": [
        {
          "output_type": "execute_result",
          "data": {
            "text/plain": [
              "0.0071767589236793015"
            ]
          },
          "metadata": {
            "tags": []
          },
          "execution_count": 28
        }
      ]
    },
    {
      "cell_type": "code",
      "metadata": {
        "colab": {
          "base_uri": "https://localhost:8080/",
          "height": 402
        },
        "id": "ZVoRcKojLZv7",
        "outputId": "2d142429-0b68-49d0-91ac-2685c600d942"
      },
      "source": [
        "pd.DataFrame({'actual': y_test,\n",
        "              'prediction': prediction4,\n",
        "              'diff': (y_test-prediction4)})"
      ],
      "execution_count": null,
      "outputs": [
        {
          "output_type": "execute_result",
          "data": {
            "text/html": [
              "<div>\n",
              "<style scoped>\n",
              "    .dataframe tbody tr th:only-of-type {\n",
              "        vertical-align: middle;\n",
              "    }\n",
              "\n",
              "    .dataframe tbody tr th {\n",
              "        vertical-align: top;\n",
              "    }\n",
              "\n",
              "    .dataframe thead th {\n",
              "        text-align: right;\n",
              "    }\n",
              "</style>\n",
              "<table border=\"1\" class=\"dataframe\">\n",
              "  <thead>\n",
              "    <tr style=\"text-align: right;\">\n",
              "      <th></th>\n",
              "      <th>actual</th>\n",
              "      <th>prediction</th>\n",
              "      <th>diff</th>\n",
              "    </tr>\n",
              "  </thead>\n",
              "  <tbody>\n",
              "    <tr>\n",
              "      <th>37443</th>\n",
              "      <td>-2.288889</td>\n",
              "      <td>-2.366102</td>\n",
              "      <td>0.077213</td>\n",
              "    </tr>\n",
              "    <tr>\n",
              "      <th>86534</th>\n",
              "      <td>8.861111</td>\n",
              "      <td>8.892260</td>\n",
              "      <td>-0.031149</td>\n",
              "    </tr>\n",
              "    <tr>\n",
              "      <th>2082</th>\n",
              "      <td>9.805556</td>\n",
              "      <td>9.847246</td>\n",
              "      <td>-0.041690</td>\n",
              "    </tr>\n",
              "    <tr>\n",
              "      <th>53130</th>\n",
              "      <td>27.222222</td>\n",
              "      <td>27.202118</td>\n",
              "      <td>0.020104</td>\n",
              "    </tr>\n",
              "    <tr>\n",
              "      <th>45196</th>\n",
              "      <td>17.705556</td>\n",
              "      <td>17.713716</td>\n",
              "      <td>-0.008160</td>\n",
              "    </tr>\n",
              "    <tr>\n",
              "      <th>...</th>\n",
              "      <td>...</td>\n",
              "      <td>...</td>\n",
              "      <td>...</td>\n",
              "    </tr>\n",
              "    <tr>\n",
              "      <th>55387</th>\n",
              "      <td>-10.066667</td>\n",
              "      <td>-10.100922</td>\n",
              "      <td>0.034255</td>\n",
              "    </tr>\n",
              "    <tr>\n",
              "      <th>25976</th>\n",
              "      <td>9.972222</td>\n",
              "      <td>9.913953</td>\n",
              "      <td>0.058269</td>\n",
              "    </tr>\n",
              "    <tr>\n",
              "      <th>32423</th>\n",
              "      <td>12.777778</td>\n",
              "      <td>12.781718</td>\n",
              "      <td>-0.003940</td>\n",
              "    </tr>\n",
              "    <tr>\n",
              "      <th>26570</th>\n",
              "      <td>15.277778</td>\n",
              "      <td>15.275648</td>\n",
              "      <td>0.002130</td>\n",
              "    </tr>\n",
              "    <tr>\n",
              "      <th>45834</th>\n",
              "      <td>2.200000</td>\n",
              "      <td>2.187450</td>\n",
              "      <td>0.012550</td>\n",
              "    </tr>\n",
              "  </tbody>\n",
              "</table>\n",
              "<p>19291 rows × 3 columns</p>\n",
              "</div>"
            ],
            "text/plain": [
              "          actual  prediction      diff\n",
              "37443  -2.288889   -2.366102  0.077213\n",
              "86534   8.861111    8.892260 -0.031149\n",
              "2082    9.805556    9.847246 -0.041690\n",
              "53130  27.222222   27.202118  0.020104\n",
              "45196  17.705556   17.713716 -0.008160\n",
              "...          ...         ...       ...\n",
              "55387 -10.066667  -10.100922  0.034255\n",
              "25976   9.972222    9.913953  0.058269\n",
              "32423  12.777778   12.781718 -0.003940\n",
              "26570  15.277778   15.275648  0.002130\n",
              "45834   2.200000    2.187450  0.012550\n",
              "\n",
              "[19291 rows x 3 columns]"
            ]
          },
          "metadata": {
            "tags": []
          },
          "execution_count": 29
        }
      ]
    },
    {
      "cell_type": "markdown",
      "metadata": {
        "id": "Ljj4tXxfLjmo"
      },
      "source": [
        "**Error -- 0.0072**"
      ]
    },
    {
      "cell_type": "markdown",
      "metadata": {
        "id": "aHfmnNhBLr63"
      },
      "source": [
        "#**Random Forest with maximum Dept - 50**"
      ]
    },
    {
      "cell_type": "code",
      "metadata": {
        "colab": {
          "base_uri": "https://localhost:8080/"
        },
        "id": "VI9T8yovL4yZ",
        "outputId": "7445178f-a941-4166-f4c9-1b62bf36a247"
      },
      "source": [
        "regr2 = RandomForestRegressor(max_depth = 50, random_state = 0, n_estimators = 100)\n",
        "regr2.fit(X_train, y_train)"
      ],
      "execution_count": null,
      "outputs": [
        {
          "output_type": "execute_result",
          "data": {
            "text/plain": [
              "RandomForestRegressor(bootstrap=True, ccp_alpha=0.0, criterion='mse',\n",
              "                      max_depth=50, max_features='auto', max_leaf_nodes=None,\n",
              "                      max_samples=None, min_impurity_decrease=0.0,\n",
              "                      min_impurity_split=None, min_samples_leaf=1,\n",
              "                      min_samples_split=2, min_weight_fraction_leaf=0.0,\n",
              "                      n_estimators=100, n_jobs=None, oob_score=False,\n",
              "                      random_state=0, verbose=0, warm_start=False)"
            ]
          },
          "metadata": {
            "tags": []
          },
          "execution_count": 30
        }
      ]
    },
    {
      "cell_type": "code",
      "metadata": {
        "colab": {
          "base_uri": "https://localhost:8080/"
        },
        "id": "1B0ynoIXL8cj",
        "outputId": "c4b34642-0060-444d-9d4e-c97a9d0c8c0c"
      },
      "source": [
        "prediction5 = regr.predict(X_test)\n",
        "np.mean((prediction5-y_test)**2)"
      ],
      "execution_count": null,
      "outputs": [
        {
          "output_type": "execute_result",
          "data": {
            "text/plain": [
              "0.0071767589236793015"
            ]
          },
          "metadata": {
            "tags": []
          },
          "execution_count": 31
        }
      ]
    },
    {
      "cell_type": "code",
      "metadata": {
        "colab": {
          "base_uri": "https://localhost:8080/",
          "height": 402
        },
        "id": "wLoWrV5uMBjv",
        "outputId": "bddd1f51-ec4f-47d4-b117-152096e988ea"
      },
      "source": [
        "pd.DataFrame({'actual': y_test,\n",
        "              'prediction': prediction5,\n",
        "              'diff': (y_test-prediction5)})"
      ],
      "execution_count": null,
      "outputs": [
        {
          "output_type": "execute_result",
          "data": {
            "text/html": [
              "<div>\n",
              "<style scoped>\n",
              "    .dataframe tbody tr th:only-of-type {\n",
              "        vertical-align: middle;\n",
              "    }\n",
              "\n",
              "    .dataframe tbody tr th {\n",
              "        vertical-align: top;\n",
              "    }\n",
              "\n",
              "    .dataframe thead th {\n",
              "        text-align: right;\n",
              "    }\n",
              "</style>\n",
              "<table border=\"1\" class=\"dataframe\">\n",
              "  <thead>\n",
              "    <tr style=\"text-align: right;\">\n",
              "      <th></th>\n",
              "      <th>actual</th>\n",
              "      <th>prediction</th>\n",
              "      <th>diff</th>\n",
              "    </tr>\n",
              "  </thead>\n",
              "  <tbody>\n",
              "    <tr>\n",
              "      <th>37443</th>\n",
              "      <td>-2.288889</td>\n",
              "      <td>-2.366102</td>\n",
              "      <td>0.077213</td>\n",
              "    </tr>\n",
              "    <tr>\n",
              "      <th>86534</th>\n",
              "      <td>8.861111</td>\n",
              "      <td>8.892260</td>\n",
              "      <td>-0.031149</td>\n",
              "    </tr>\n",
              "    <tr>\n",
              "      <th>2082</th>\n",
              "      <td>9.805556</td>\n",
              "      <td>9.847246</td>\n",
              "      <td>-0.041690</td>\n",
              "    </tr>\n",
              "    <tr>\n",
              "      <th>53130</th>\n",
              "      <td>27.222222</td>\n",
              "      <td>27.202118</td>\n",
              "      <td>0.020104</td>\n",
              "    </tr>\n",
              "    <tr>\n",
              "      <th>45196</th>\n",
              "      <td>17.705556</td>\n",
              "      <td>17.713716</td>\n",
              "      <td>-0.008160</td>\n",
              "    </tr>\n",
              "    <tr>\n",
              "      <th>...</th>\n",
              "      <td>...</td>\n",
              "      <td>...</td>\n",
              "      <td>...</td>\n",
              "    </tr>\n",
              "    <tr>\n",
              "      <th>55387</th>\n",
              "      <td>-10.066667</td>\n",
              "      <td>-10.100922</td>\n",
              "      <td>0.034255</td>\n",
              "    </tr>\n",
              "    <tr>\n",
              "      <th>25976</th>\n",
              "      <td>9.972222</td>\n",
              "      <td>9.913953</td>\n",
              "      <td>0.058269</td>\n",
              "    </tr>\n",
              "    <tr>\n",
              "      <th>32423</th>\n",
              "      <td>12.777778</td>\n",
              "      <td>12.781718</td>\n",
              "      <td>-0.003940</td>\n",
              "    </tr>\n",
              "    <tr>\n",
              "      <th>26570</th>\n",
              "      <td>15.277778</td>\n",
              "      <td>15.275648</td>\n",
              "      <td>0.002130</td>\n",
              "    </tr>\n",
              "    <tr>\n",
              "      <th>45834</th>\n",
              "      <td>2.200000</td>\n",
              "      <td>2.187450</td>\n",
              "      <td>0.012550</td>\n",
              "    </tr>\n",
              "  </tbody>\n",
              "</table>\n",
              "<p>19291 rows × 3 columns</p>\n",
              "</div>"
            ],
            "text/plain": [
              "          actual  prediction      diff\n",
              "37443  -2.288889   -2.366102  0.077213\n",
              "86534   8.861111    8.892260 -0.031149\n",
              "2082    9.805556    9.847246 -0.041690\n",
              "53130  27.222222   27.202118  0.020104\n",
              "45196  17.705556   17.713716 -0.008160\n",
              "...          ...         ...       ...\n",
              "55387 -10.066667  -10.100922  0.034255\n",
              "25976   9.972222    9.913953  0.058269\n",
              "32423  12.777778   12.781718 -0.003940\n",
              "26570  15.277778   15.275648  0.002130\n",
              "45834   2.200000    2.187450  0.012550\n",
              "\n",
              "[19291 rows x 3 columns]"
            ]
          },
          "metadata": {
            "tags": []
          },
          "execution_count": 32
        }
      ]
    }
  ]
}